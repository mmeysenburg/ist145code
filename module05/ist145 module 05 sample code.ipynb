{
  "nbformat": 4,
  "nbformat_minor": 0,
  "metadata": {
    "colab": {
      "name": "ist145 module 05 sample code.ipynb",
      "provenance": [],
      "collapsed_sections": []
    },
    "kernelspec": {
      "name": "python3",
      "display_name": "Python 3"
    }
  },
  "cells": [
    {
      "cell_type": "markdown",
      "metadata": {
        "id": "DYBdP8prnboj"
      },
      "source": [
        "#IST 145 Chapter 5 Sample Code"
      ]
    },
    {
      "cell_type": "markdown",
      "metadata": {
        "id": "1x8fqDPBm30o"
      },
      "source": [
        "##Session 5.1 Opening and closing a file\r\n",
        "\r\n",
        "To download the data files for this sample code from the Course's Github repository, execute the following cell. You will have to execute this each time you start a new runtime. "
      ]
    },
    {
      "cell_type": "code",
      "metadata": {
        "colab": {
          "base_uri": "https://localhost:8080/"
        },
        "id": "aTaG3tNFrONM",
        "outputId": "0bc5ab87-7a8e-4da0-d779-305e68db273c"
      },
      "source": [
        "!curl 'https://raw.githubusercontent.com/mmeysenburg/ist145code/main/module05/rainfall.txt' > rainfall.txt\r\n",
        "!curl 'https://raw.githubusercontent.com/mmeysenburg/ist145code/main/module05/earthquakes3.csv' > earthquakes3.csv\r\n",
        "!curl 'https://raw.githubusercontent.com/mmeysenburg/ist145code/main/module05/earthquakes.csv' > earthquakes.csv"
      ],
      "execution_count": 1,
      "outputs": [
        {
          "output_type": "stream",
          "text": [
            "  % Total    % Received % Xferd  Average Speed   Time    Time     Time  Current\n",
            "                                 Dload  Upload   Total   Spent    Left  Speed\n",
            "100   361  100   361    0     0   1077      0 --:--:-- --:--:-- --:--:--  1077\n",
            "  % Total    % Received % Xferd  Average Speed   Time    Time     Time  Current\n",
            "                                 Dload  Upload   Total   Spent    Left  Speed\n",
            "100   538  100   538    0     0   3127      0 --:--:-- --:--:-- --:--:--  3127\n",
            "  % Total    % Received % Xferd  Average Speed   Time    Time     Time  Current\n",
            "                                 Dload  Upload   Total   Spent    Left  Speed\n",
            "100 91807  100 91807    0     0   403k      0 --:--:-- --:--:-- --:--:--  403k\n"
          ],
          "name": "stdout"
        }
      ]
    },
    {
      "cell_type": "code",
      "metadata": {
        "id": "pT-H4iBDlioT"
      },
      "source": [
        "# option 1 open, then close file\n",
        "fileRef = open('rainfall.txt', 'r')\n",
        "# process the data in the file\n",
        "fileRef.close()"
      ],
      "execution_count": 2,
      "outputs": []
    },
    {
      "cell_type": "code",
      "metadata": {
        "id": "-S3F2F-DoQgC"
      },
      "source": [
        "# option 2, use with / as block -- preferred method\n",
        "with open('rainfall.txt', 'r') as fileRef:\n",
        "  # process file\n",
        "  dummy = 0 # dummy code; the with needs a body "
      ],
      "execution_count": null,
      "outputs": []
    },
    {
      "cell_type": "markdown",
      "metadata": {
        "id": "N1Spst7An5ER"
      },
      "source": [
        "##Session 5.2 Simple program to read rainfall data from a file"
      ]
    },
    {
      "cell_type": "code",
      "metadata": {
        "id": "v95_YeaZnD3n"
      },
      "source": [
        "with open('rainfall.txt', 'r') as rainFile:\n",
        "  for aLine in rainFile:\n",
        "    values = aLine.split()\n",
        "    print(values[0], 'had', values[1], 'inches of rain.')"
      ],
      "execution_count": null,
      "outputs": []
    },
    {
      "cell_type": "markdown",
      "metadata": {
        "id": "if5z0grvoU-e"
      },
      "source": [
        "##Listing 5.1 Writing data into a new file"
      ]
    },
    {
      "cell_type": "code",
      "metadata": {
        "id": "quUt2_hDoH2c"
      },
      "source": [
        "with open('rainfall.txt', 'r') as rainFile:\n",
        "  with open('rainfallInCM.txt', 'w') as outFile:\n",
        "    for aLine in rainFile:\n",
        "      values = aLine.split()\n",
        "\n",
        "      inches = float(values[1])\n",
        "      cm = 2.54 * inches\n",
        "\n",
        "      outFile.write(values[0] + ' ' + str(cm) + '\\n')"
      ],
      "execution_count": null,
      "outputs": []
    },
    {
      "cell_type": "markdown",
      "metadata": {
        "id": "qdliXKDSqRvt"
      },
      "source": [
        "##Session 5.3 Demonstrating string formatting"
      ]
    },
    {
      "cell_type": "code",
      "metadata": {
        "id": "L3eqX1Hroxln"
      },
      "source": [
        "fruitPrice = 75\n",
        "fruit = 'apple'\n",
        "print('The {0} costs {1:d} cents'.format(fruit, fruitPrice))"
      ],
      "execution_count": null,
      "outputs": []
    },
    {
      "cell_type": "code",
      "metadata": {
        "id": "0KMu23_Gs1Yq"
      },
      "source": [
        "item = 'a dozen eggs'\n",
        "itemPrice = 2.4\n",
        "print('The price of {0} is ${1:.2f}'.format(item, itemPrice))"
      ],
      "execution_count": null,
      "outputs": []
    },
    {
      "cell_type": "code",
      "metadata": {
        "id": "nbnsGKtos_r3"
      },
      "source": [
        "mDict = {'name':'candy bar', 'price':95}"
      ],
      "execution_count": null,
      "outputs": []
    },
    {
      "cell_type": "code",
      "metadata": {
        "id": "VvlwCpF2tFZe"
      },
      "source": [
        "print('The {name} costs {price} cents.'.format(**mDict))"
      ],
      "execution_count": null,
      "outputs": []
    },
    {
      "cell_type": "code",
      "metadata": {
        "id": "LMrIqLEltNIK"
      },
      "source": [
        "print('This text is {0:^25s}'.format('centered'))"
      ],
      "execution_count": null,
      "outputs": []
    },
    {
      "cell_type": "code",
      "metadata": {
        "id": "j7MGTOTStXI0"
      },
      "source": [
        "print('This text is {0:>25s}'.format('right justified'))"
      ],
      "execution_count": null,
      "outputs": []
    },
    {
      "cell_type": "code",
      "metadata": {
        "id": "cOjcSF93tdw8"
      },
      "source": [
        "print('This text is {0:<25s}'.format('left justified'))"
      ],
      "execution_count": null,
      "outputs": []
    },
    {
      "cell_type": "code",
      "metadata": {
        "id": "T2y7AbOhtgf-"
      },
      "source": [
        "quizGrade = 7.5\n",
        "totalPoints = 12\n",
        "print('{0:.1f} is {1:.2%} of {2:d} total points.'.format(quizGrade, quizGrade / totalPoints, totalPoints))"
      ],
      "execution_count": null,
      "outputs": []
    },
    {
      "cell_type": "markdown",
      "metadata": {
        "id": "gtMJFRhaBBoC"
      },
      "source": [
        "##Session 5.4 Using more read methods"
      ]
    },
    {
      "cell_type": "code",
      "metadata": {
        "id": "YGCVj3yntxPZ"
      },
      "source": [
        "with open('rainfall.txt', 'r') as inFile:\n",
        "  aLine = inFile.readline()"
      ],
      "execution_count": null,
      "outputs": []
    },
    {
      "cell_type": "code",
      "metadata": {
        "id": "rBhdu3CgBJhV"
      },
      "source": [
        "aLine"
      ],
      "execution_count": null,
      "outputs": []
    },
    {
      "cell_type": "code",
      "metadata": {
        "id": "XgExmB3-BK9y"
      },
      "source": [
        "with open('rainfall.txt', 'r') as inFile:\n",
        "  lineList = inFile.readlines()\n",
        "\n",
        "lineList"
      ],
      "execution_count": null,
      "outputs": []
    },
    {
      "cell_type": "code",
      "metadata": {
        "id": "KeERKzHvBTp2"
      },
      "source": [
        "with open('rainfall.txt', 'r') as inFile:\n",
        "  fileString = inFile.read()\n",
        "\n",
        "fileString"
      ],
      "execution_count": null,
      "outputs": []
    },
    {
      "cell_type": "markdown",
      "metadata": {
        "id": "fc7cLr_OCbmA"
      },
      "source": [
        "##Session 5.5 Using the `csv reader` method"
      ]
    },
    {
      "cell_type": "code",
      "metadata": {
        "id": "esUblS_9BbRz"
      },
      "source": [
        "import csv\n",
        "with open('earthquakes3.csv', 'r') as inFile:\n",
        "  csvReader = csv.reader(inFile)\n",
        "  for line in csvReader:\n",
        "    print(line)"
      ],
      "execution_count": null,
      "outputs": []
    },
    {
      "cell_type": "markdown",
      "metadata": {
        "id": "D-PByf7GDuk3"
      },
      "source": [
        "##Session 5.6 Searching for a column name"
      ]
    },
    {
      "cell_type": "code",
      "metadata": {
        "id": "DF9hjNutCplB"
      },
      "source": [
        "import csv\n",
        "with open('earthquakes3.csv', 'r') as inFile:\n",
        "  csvReader = csv.reader(inFile)\n",
        "  titles = next(csvReader)\n",
        "  colNum = 0\n",
        "  while titles[colNum] != 'mag':\n",
        "    colNum = colNum + 1\n",
        "  \n",
        "  print('The magnitude is found in column', colNum)"
      ],
      "execution_count": null,
      "outputs": []
    },
    {
      "cell_type": "markdown",
      "metadata": {
        "id": "nX2_SX7JEiFJ"
      },
      "source": [
        "##Listing 5.2 Making a list of earthquake data"
      ]
    },
    {
      "cell_type": "code",
      "metadata": {
        "id": "5S3YZSw5EFYp"
      },
      "source": [
        "def makeDataList(dataName):\n",
        "  \"\"\"\n",
        "  Make a list of the values in a specified column of earthquakes3.csv.\n",
        "\n",
        "  parameters\n",
        "  ----------\n",
        "  dataName : str\n",
        "    Name of the column to extract\n",
        "\n",
        "  returns\n",
        "  -------\n",
        "    A list of the numbers in the specified column\n",
        "  \"\"\"\n",
        "  with open('earthquakes3.csv', 'r') as inFile:\n",
        "    dataList = []\n",
        "\n",
        "    csvReader = csv.reader(inFile)\n",
        "    titles = next(csvReader)\n",
        "\n",
        "    colNum = 0\n",
        "    while colNum < len(titles) and titles[colNum] != dataName:\n",
        "      colNum += 1\n",
        "\n",
        "    if colNum == len(titles):\n",
        "      print('Error:', dataName, 'not found.')\n",
        "    else:\n",
        "      for line in csvReader:\n",
        "        dataList.append(float(line[colNum]))\n",
        "\n",
        "  return dataList\n",
        "\n",
        "\n",
        "makeDataList('mag')"
      ],
      "execution_count": null,
      "outputs": []
    },
    {
      "cell_type": "code",
      "metadata": {
        "id": "yz9sorD6FOHe"
      },
      "source": [
        "makeDataList('foo')"
      ],
      "execution_count": null,
      "outputs": []
    },
    {
      "cell_type": "markdown",
      "metadata": {
        "id": "1peOr_WzFzR-"
      },
      "source": [
        "##Session 5.7 Creating a list of cubes"
      ]
    },
    {
      "cell_type": "code",
      "metadata": {
        "id": "BXFTf0foFRNe"
      },
      "source": [
        "cubes = []\n",
        "for x in range(1, 11):\n",
        "  cubes.append(x * x * x)\n",
        "\n",
        "cubes"
      ],
      "execution_count": null,
      "outputs": []
    },
    {
      "cell_type": "markdown",
      "metadata": {
        "id": "jFPuIyvhF_LN"
      },
      "source": [
        "##Session 5.8 A list of cubes using list comprehension"
      ]
    },
    {
      "cell_type": "code",
      "metadata": {
        "id": "9Pzt2vezF6O5"
      },
      "source": [
        "cubes = [x * x * x for x in range(1, 11)]\n",
        "cubes"
      ],
      "execution_count": null,
      "outputs": []
    },
    {
      "cell_type": "markdown",
      "metadata": {
        "id": "J4HaPJvYGP0F"
      },
      "source": [
        "##Session 5.9 Using `if` in list comprehension"
      ]
    },
    {
      "cell_type": "code",
      "metadata": {
        "id": "Ndlm_qErGFLZ"
      },
      "source": [
        "evenCubes = [x for x in cubes if x % 2 == 0]\n",
        "evenCubes"
      ],
      "execution_count": null,
      "outputs": []
    },
    {
      "cell_type": "markdown",
      "metadata": {
        "id": "X9_sHsn_GhaM"
      },
      "source": [
        "##Listing 5.3 `makeDataList` with list comprehension"
      ]
    },
    {
      "cell_type": "code",
      "metadata": {
        "id": "rbqnccTdGVpG"
      },
      "source": [
        "def makeDataList(dataName):\n",
        "  \"\"\"\n",
        "  Make a list of the values in a specified column of earthquakes3.csv.\n",
        "\n",
        "  parameters\n",
        "  ----------\n",
        "  dataName : str\n",
        "    Name of the column to extract\n",
        "\n",
        "  returns\n",
        "  -------\n",
        "    A list of the numbers in the specified column\n",
        "  \"\"\"\n",
        "  with open('earthquakes.csv', 'r') as inFile:\n",
        "    dataList = []\n",
        "\n",
        "    csvReader = csv.reader(inFile)\n",
        "    titles = next(csvReader)\n",
        "\n",
        "    colNum = 0\n",
        "    while colNum < len(titles) and titles[colNum] != dataName:\n",
        "      colNum += 1\n",
        "\n",
        "    if colNum == len(titles):\n",
        "      print('Error:', dataName, 'not found.')\n",
        "    else:\n",
        "      dataList = [(float(line[colNum])) for line in csvReader]\n",
        "\n",
        "  return dataList"
      ],
      "execution_count": null,
      "outputs": []
    },
    {
      "cell_type": "markdown",
      "metadata": {
        "id": "g0S6s1qMG2Bs"
      },
      "source": [
        "##Session 5.10 Calling the `makeDataList` function"
      ]
    },
    {
      "cell_type": "code",
      "metadata": {
        "id": "8-e9g4kdGuma"
      },
      "source": [
        "magList = makeDataList('mag')\n",
        "len(magList)"
      ],
      "execution_count": null,
      "outputs": []
    },
    {
      "cell_type": "code",
      "metadata": {
        "id": "oWV3iL0RG7O4"
      },
      "source": [
        "for i in range(10):\n",
        "  print(magList[i], end = ' ')"
      ],
      "execution_count": null,
      "outputs": []
    },
    {
      "cell_type": "code",
      "metadata": {
        "id": "3td80k44HAqN"
      },
      "source": [
        "depthList = makeDataList('depth')\n",
        "len(depthList)"
      ],
      "execution_count": null,
      "outputs": []
    },
    {
      "cell_type": "code",
      "metadata": {
        "id": "Zj7Si4ihHPca"
      },
      "source": [
        "for i in range(10):\n",
        "  print(depthList[i], end = ' ')"
      ],
      "execution_count": null,
      "outputs": []
    },
    {
      "cell_type": "code",
      "metadata": {
        "id": "obdzQA1SHRp7"
      },
      "source": [
        "makeDataList('notATitle')"
      ],
      "execution_count": null,
      "outputs": []
    },
    {
      "cell_type": "markdown",
      "metadata": {
        "id": "DLJVhkZHHnZd"
      },
      "source": [
        "##Session 5.11 Statistics from the earthquake data"
      ]
    },
    {
      "cell_type": "code",
      "metadata": {
        "id": "0yEl1185HZgq"
      },
      "source": [
        "import statistics\n",
        "magList = makeDataList('mag')"
      ],
      "execution_count": null,
      "outputs": []
    },
    {
      "cell_type": "code",
      "metadata": {
        "id": "n6Eygfp2HuAX"
      },
      "source": [
        "max(magList)"
      ],
      "execution_count": null,
      "outputs": []
    },
    {
      "cell_type": "code",
      "metadata": {
        "id": "tJ2IlbMKHvT8"
      },
      "source": [
        "min(magList)"
      ],
      "execution_count": null,
      "outputs": []
    },
    {
      "cell_type": "code",
      "metadata": {
        "id": "TCdm7yaKHwgP"
      },
      "source": [
        "statistics.mean(magList)"
      ],
      "execution_count": null,
      "outputs": []
    },
    {
      "cell_type": "code",
      "metadata": {
        "id": "laeXNs_kHyi8"
      },
      "source": [
        "statistics.median(magList)"
      ],
      "execution_count": null,
      "outputs": []
    },
    {
      "cell_type": "code",
      "metadata": {
        "id": "ysEDZ_rGH1Pl"
      },
      "source": [
        "statistics.mode(magList)"
      ],
      "execution_count": null,
      "outputs": []
    },
    {
      "cell_type": "code",
      "metadata": {
        "id": "K5B8pnZYH33l"
      },
      "source": [
        "statistics.stdev(magList)"
      ],
      "execution_count": null,
      "outputs": []
    },
    {
      "cell_type": "markdown",
      "metadata": {
        "id": "2ict8q0XII21"
      },
      "source": [
        "##Session 5.12 Frequency table for earthquake magnitude data"
      ]
    },
    {
      "cell_type": "code",
      "metadata": {
        "id": "UuS5cIAoH626"
      },
      "source": [
        "def frequencyTable(aList):\n",
        "  \"\"\"\n",
        "  Print a frequency table of a list of values.\n",
        "\n",
        "  parameters\n",
        "  ----------\n",
        "  aList : list of earthquake magnitudes\n",
        "  \"\"\"\n",
        "  countDict = {}\n",
        "  for item in aList:\n",
        "    countDict[item] = countDict.get(item, 0) + 1\n",
        "\n",
        "  itemList = list(countDict.keys())\n",
        "  itemList.sort()\n",
        "\n",
        "  print('ITEM', 'FREQUENCY')\n",
        "  for item in itemList:\n",
        "    print('{0:4.1f} {1:6d}'.format(item, countDict[item]))\n",
        "\n",
        "frequencyTable(magList)"
      ],
      "execution_count": null,
      "outputs": []
    },
    {
      "cell_type": "markdown",
      "metadata": {
        "id": "gXA3IpeIJbPu"
      },
      "source": [
        "##Session 5.13 Loading the JSON data\n",
        "\n"
      ]
    },
    {
      "cell_type": "code",
      "metadata": {
        "id": "DBticJStIyl4"
      },
      "source": [
        "import json\n",
        "import urllib.request\n",
        "\n",
        "handle = urllib.request.urlopen('https://earthquake.usgs.gov/earthquakes/feed/v1.0/summary/4.5_month.geojson')\n",
        "data = handle.read()\n",
        "eData = json.loads(data)\n",
        "eData.keys()"
      ],
      "execution_count": null,
      "outputs": []
    },
    {
      "cell_type": "code",
      "metadata": {
        "id": "on_tmTH7Jwl8"
      },
      "source": [
        "earthquakeList = eData.get('features')\n",
        "len(earthquakeList)"
      ],
      "execution_count": null,
      "outputs": []
    },
    {
      "cell_type": "markdown",
      "metadata": {
        "id": "_N3ILIa9J-pM"
      },
      "source": [
        "##Listing 5.4 Making a list of JSON earthquake data"
      ]
    },
    {
      "cell_type": "code",
      "metadata": {
        "id": "Jdoh9rc6J2zw"
      },
      "source": [
        "def makeMagList(earthquakeData):\n",
        "  \"\"\"\n",
        "  Make a list of earthquake magnitudes, pulled from JSON data.\n",
        "\n",
        "  parameters\n",
        "  ----------\n",
        "  earthquakeData : JSON object of earthquake data; see Figure 5.4\n",
        "  \"\"\"\n",
        "  magList = []\n",
        "  earthquakes = earthquakeData.get('features')\n",
        "  for i in range(len(earthquakes)):\n",
        "    earthquake = earthquakes[i]\n",
        "    properties = earthquake.get('properties')\n",
        "    mag = properties.get('mag')\n",
        "    magList.append(mag)\n",
        "\n",
        "  return magList"
      ],
      "execution_count": null,
      "outputs": []
    },
    {
      "cell_type": "markdown",
      "metadata": {
        "id": "O5EG4pUNK3bs"
      },
      "source": [
        "##Session 5.14 Running statistics on earthquake magnitudes"
      ]
    },
    {
      "cell_type": "code",
      "metadata": {
        "id": "NVO2_GBJK2Kz"
      },
      "source": [
        "magList = makeMagList(eData)\n",
        "import statistics\n",
        "len(magList)"
      ],
      "execution_count": null,
      "outputs": []
    },
    {
      "cell_type": "code",
      "metadata": {
        "id": "qASpPSbvK9t3"
      },
      "source": [
        "min(magList)"
      ],
      "execution_count": null,
      "outputs": []
    },
    {
      "cell_type": "code",
      "metadata": {
        "id": "i66S6k8vLB21"
      },
      "source": [
        "max(magList)"
      ],
      "execution_count": null,
      "outputs": []
    },
    {
      "cell_type": "code",
      "metadata": {
        "id": "g08iSUh0LCqt"
      },
      "source": [
        "statistics.mean(magList)"
      ],
      "execution_count": null,
      "outputs": []
    },
    {
      "cell_type": "code",
      "metadata": {
        "id": "A-GBPf7ULEiz"
      },
      "source": [
        "statistics.median(magList)"
      ],
      "execution_count": null,
      "outputs": []
    },
    {
      "cell_type": "code",
      "metadata": {
        "id": "IlvLRPmjLGbZ"
      },
      "source": [
        "statistics.mode(magList)"
      ],
      "execution_count": null,
      "outputs": []
    },
    {
      "cell_type": "code",
      "metadata": {
        "id": "nYf0PxmYLI-c"
      },
      "source": [
        "statistics.stdev(magList)"
      ],
      "execution_count": null,
      "outputs": []
    },
    {
      "cell_type": "code",
      "metadata": {
        "id": "8WVYR5v9LLJP"
      },
      "source": [
        "frequencyTable(magList)"
      ],
      "execution_count": null,
      "outputs": []
    },
    {
      "cell_type": "markdown",
      "metadata": {
        "id": "WI_y9v4iMW32"
      },
      "source": [
        "##Listing 5.5 The Pearson correlation function"
      ]
    },
    {
      "cell_type": "code",
      "metadata": {
        "id": "xhFntTYfLPWF"
      },
      "source": [
        "def correlation(xList, yList):\n",
        "  \"\"\"\n",
        "  Perform Pearson correlation function on two lists of data\n",
        "\n",
        "  parameters\n",
        "  ----------\n",
        "  xList : first list of numbers\n",
        "  yList : second list of numbers, assumed to be of same size \n",
        "\n",
        "  returns\n",
        "  -------\n",
        "  Pearson Correlation value for xList and yList\n",
        "  \"\"\"\n",
        "  import statistics\n",
        "  xBar = statistics.mean(xList)\n",
        "  yBar = statistics.mean(yList)\n",
        "  xStd = statistics.stdev(xList)\n",
        "  yStd = statistics.stdev(yList)\n",
        "  num = 0\n",
        "  for i in range(len(xList)):\n",
        "    num = num + (xList[i] - xBar) * (yList[i] - yBar)\n",
        "  corr = num / ((len(xList) - 1) * xStd *  yStd)\n",
        "  return corr"
      ],
      "execution_count": null,
      "outputs": []
    },
    {
      "cell_type": "markdown",
      "metadata": {
        "id": "OA0sg6ZMrKqh"
      },
      "source": [
        "##Session 5.15 Corrleating magnitude and depth"
      ]
    },
    {
      "cell_type": "code",
      "metadata": {
        "id": "Y9T_3S6ONf2J"
      },
      "source": [
        "magList = makeDataList('mag')\n",
        "depthList = makeDataList('depth')\n",
        "correlation(magList, depthList)"
      ],
      "execution_count": null,
      "outputs": []
    },
    {
      "cell_type": "code",
      "metadata": {
        "id": "52RQ06ykN1Q2"
      },
      "source": [
        ""
      ],
      "execution_count": null,
      "outputs": []
    }
  ]
}