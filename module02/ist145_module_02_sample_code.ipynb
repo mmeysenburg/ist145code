{
  "nbformat": 4,
  "nbformat_minor": 0,
  "metadata": {
    "colab": {
      "name": "ist145 module 02 sample code.ipynb",
      "provenance": [],
      "collapsed_sections": []
    },
    "kernelspec": {
      "name": "python3",
      "display_name": "Python 3"
    }
  },
  "cells": [
    {
      "cell_type": "markdown",
      "metadata": {
        "id": "eM--LnWEGWVi"
      },
      "source": [
        "#IST 145 Chapter 2 Sample Code\n",
        "\n",
        "##Session 2.1 Simple approximations for pi"
      ]
    },
    {
      "cell_type": "code",
      "metadata": {
        "id": "ib25npN7GKyq"
      },
      "source": [
        "22 / 7"
      ],
      "execution_count": null,
      "outputs": []
    },
    {
      "cell_type": "code",
      "metadata": {
        "id": "Nl4Q7LSDGgoq"
      },
      "source": [
        "355 / 113"
      ],
      "execution_count": null,
      "outputs": []
    },
    {
      "cell_type": "code",
      "metadata": {
        "id": "x7RCBEaEGjHf"
      },
      "source": [
        "import math\n",
        "9801 / (2206 * math.sqrt(2))"
      ],
      "execution_count": null,
      "outputs": []
    },
    {
      "cell_type": "markdown",
      "metadata": {
        "id": "jC8fNuvcIIcM"
      },
      "source": [
        "##Session 2.2 Asking for help on a Python module"
      ]
    },
    {
      "cell_type": "code",
      "metadata": {
        "id": "4Wh833muGoMf"
      },
      "source": [
        "help('modules') # produces a list of all the available modules"
      ],
      "execution_count": null,
      "outputs": []
    },
    {
      "cell_type": "code",
      "metadata": {
        "id": "G7fWn7efHYFy"
      },
      "source": [
        "help('math')"
      ],
      "execution_count": null,
      "outputs": []
    },
    {
      "cell_type": "code",
      "metadata": {
        "id": "tfMWtahmJIhF"
      },
      "source": [
        "help('math.sqrt')"
      ],
      "execution_count": null,
      "outputs": []
    },
    {
      "cell_type": "markdown",
      "metadata": {
        "id": "2F82WZhbQNz7"
      },
      "source": [
        "##Session 2.3 The Archimedes approach: Interactive implementation"
      ]
    },
    {
      "cell_type": "code",
      "metadata": {
        "id": "Su1OKaHSJSbo"
      },
      "source": [
        "import math\n",
        "numSides = 8\n",
        "innerAngleB = 360.0 / numSides\n",
        "halfAngleA = innerAngleB / 2\n",
        "oneHalfSideS = math.sin(math.radians(halfAngleA))\n",
        "sideS = oneHalfSideS * 2\n",
        "polygonCircumference = numSides * sideS\n",
        "pi = polygonCircumference / 2\n",
        "pi"
      ],
      "execution_count": null,
      "outputs": []
    },
    {
      "cell_type": "markdown",
      "metadata": {
        "id": "Uhxp11clmdOl"
      },
      "source": [
        "##Listing 2.2 Implementing the Archimedes approximation as a function"
      ]
    },
    {
      "cell_type": "code",
      "metadata": {
        "id": "NMbxYZLqQsIc"
      },
      "source": [
        "import math\n",
        "\n",
        "def archimedes(numSides):\n",
        "  \"\"\"\n",
        "  Produce an approximation of 𝛑, using the Archimedes approach.\n",
        "\n",
        "  parameters\n",
        "  ----------\n",
        "  numSides : int\n",
        "    Number of sides in the inscribed polygon \n",
        "\n",
        "  returns\n",
        "  -------\n",
        "    Approximation of 𝛑, as a float.\n",
        "  \"\"\"\n",
        "  innerAngleB = 360.0 / numSides\n",
        "  halfAngleA = innerAngleB / 2\n",
        "  oneHalfSideS = math.sin(math.radians(halfAngleA))\n",
        "  sideS = oneHalfSideS * 2\n",
        "  polygonCircumference = numSides * sideS\n",
        "  pi = polygonCircumference / 2\n",
        "\n",
        "  return pi"
      ],
      "execution_count": null,
      "outputs": []
    },
    {
      "cell_type": "markdown",
      "metadata": {
        "id": "4lWF55XMmwZS"
      },
      "source": [
        "##Session 2.4 Using the `archimedes` function"
      ]
    },
    {
      "cell_type": "code",
      "metadata": {
        "id": "yCPuhWzZmtim"
      },
      "source": [
        "archimedes"
      ],
      "execution_count": null,
      "outputs": []
    },
    {
      "cell_type": "code",
      "metadata": {
        "id": "IVcI7khgm1WK"
      },
      "source": [
        "archimedes(8)"
      ],
      "execution_count": null,
      "outputs": []
    },
    {
      "cell_type": "code",
      "metadata": {
        "id": "LaNS6RTvnr9t"
      },
      "source": [
        "archimedes(16)"
      ],
      "execution_count": null,
      "outputs": []
    },
    {
      "cell_type": "code",
      "metadata": {
        "id": "5EndYfB5ntV6"
      },
      "source": [
        "archimedes(100)"
      ],
      "execution_count": null,
      "outputs": []
    },
    {
      "cell_type": "code",
      "metadata": {
        "id": "yiCUYJKYnvdY"
      },
      "source": [
        "for sides in range(8, 100, 8):\n",
        "  print(sides, archimedes(sides))"
      ],
      "execution_count": null,
      "outputs": []
    },
    {
      "cell_type": "markdown",
      "metadata": {
        "id": "x1J1FW6uupkl"
      },
      "source": [
        "##Session 2.5 Computing a running sum with iteration and an accumulator variable"
      ]
    },
    {
      "cell_type": "code",
      "metadata": {
        "id": "9-c_yavBn3po"
      },
      "source": [
        "acc = 0\n",
        "for x in range(1, 101):\n",
        "  acc = acc + x\n",
        "\n",
        "acc"
      ],
      "execution_count": null,
      "outputs": []
    },
    {
      "cell_type": "markdown",
      "metadata": {
        "id": "uSS4L5PYxJ-8"
      },
      "source": [
        "##Listing 2.3 A function to compute pi using the Leibniz formula"
      ]
    },
    {
      "cell_type": "code",
      "metadata": {
        "id": "b9rlRWm6uzdE"
      },
      "source": [
        "def leibniz(terms):\n",
        "  \"\"\"\n",
        "  Produce an approximation of 𝛑, using the Leibniz approach.\n",
        "\n",
        "  parameters\n",
        "  ----------\n",
        "  terms : int\n",
        "    Number of terms in the Leibniz summation of terms.\n",
        "\n",
        "  returns\n",
        "  -------\n",
        "    Approximation of 𝛑, as a float.\n",
        "  \"\"\"\n",
        "  acc = 0\n",
        "  num = 4\n",
        "  den = 1\n",
        "\n",
        "  for aTerm in range(terms):\n",
        "    nextTerm = num / den \n",
        "    acc = acc + nextTerm\n",
        "    den = den + 2\n",
        "    num = num * -1\n",
        "\n",
        "  return acc"
      ],
      "execution_count": null,
      "outputs": []
    },
    {
      "cell_type": "markdown",
      "metadata": {
        "id": "bO1BrJ9CxoYZ"
      },
      "source": [
        "##Session 2.6 Using the `leibniz` function"
      ]
    },
    {
      "cell_type": "code",
      "metadata": {
        "id": "CpEankfLxgbp"
      },
      "source": [
        "leibniz(100)"
      ],
      "execution_count": null,
      "outputs": []
    },
    {
      "cell_type": "code",
      "metadata": {
        "id": "qOXPiqZXxtUO"
      },
      "source": [
        "leibniz(1000)"
      ],
      "execution_count": null,
      "outputs": []
    },
    {
      "cell_type": "markdown",
      "metadata": {
        "id": "AINExmpbz38p"
      },
      "source": [
        "##Listing 2.4 A function to compute pi using the Wallis formula"
      ]
    },
    {
      "cell_type": "code",
      "metadata": {
        "id": "ScrnuYtmxu3y"
      },
      "source": [
        "def wallis(pairs):\n",
        "  \"\"\"\n",
        "  Produce an approximation of 𝛑, using the Wallis approach.\n",
        "\n",
        "  parameters\n",
        "  ----------\n",
        "  pairs : int\n",
        "    Number of pairs in the Wallis product of pairs.\n",
        "\n",
        "  returns\n",
        "  -------\n",
        "    Approximation of 𝛑, as a float.\n",
        "  \"\"\"\n",
        "  acc = 1\n",
        "  num = 2\n",
        "\n",
        "  for aPair in range(pairs):\n",
        "\n",
        "    leftTerm = num / (num - 1)\n",
        "    rightTerm = num / (num + 1)\n",
        "\n",
        "    acc = acc * leftTerm * rightTerm\n",
        "\n",
        "    num = num + 2\n",
        "\n",
        "  pi = acc * 2\n",
        "\n",
        "  return pi "
      ],
      "execution_count": null,
      "outputs": []
    },
    {
      "cell_type": "markdown",
      "metadata": {
        "id": "-gYT5GNLz94Y"
      },
      "source": [
        "##Session 2.7 Using the `wallis` function"
      ]
    },
    {
      "cell_type": "code",
      "metadata": {
        "id": "8XcVm8v10Bls"
      },
      "source": [
        "wallis(100)"
      ],
      "execution_count": null,
      "outputs": []
    },
    {
      "cell_type": "code",
      "metadata": {
        "id": "nv-1Ful_0aV4"
      },
      "source": [
        "wallis(1000)"
      ],
      "execution_count": null,
      "outputs": []
    },
    {
      "cell_type": "code",
      "metadata": {
        "id": "oGhmgcFB0b75"
      },
      "source": [
        "wallis(10000)"
      ],
      "execution_count": null,
      "outputs": []
    },
    {
      "cell_type": "markdown",
      "metadata": {
        "id": "9H1DtNVt7CVH"
      },
      "source": [
        "##Session 2.8 Exercising the `random` function"
      ]
    },
    {
      "cell_type": "code",
      "metadata": {
        "id": "949Pb8Wg0dAI"
      },
      "source": [
        "import random\n",
        "random.random()"
      ],
      "execution_count": null,
      "outputs": []
    },
    {
      "cell_type": "code",
      "metadata": {
        "id": "Kr9AhGzs7TzF"
      },
      "source": [
        "random.random()"
      ],
      "execution_count": null,
      "outputs": []
    },
    {
      "cell_type": "code",
      "metadata": {
        "id": "uQGch_2B7WLq"
      },
      "source": [
        "for i in range(5):\n",
        "  print(random.random())"
      ],
      "execution_count": null,
      "outputs": []
    },
    {
      "cell_type": "markdown",
      "metadata": {
        "id": "ur62ZFF19bQm"
      },
      "source": [
        "##Session 2.9 Evaluating simple relational expressions"
      ]
    },
    {
      "cell_type": "code",
      "metadata": {
        "id": "VKsPv9sp7aBO"
      },
      "source": [
        "dogWeight = 25\n",
        "dogWeight"
      ],
      "execution_count": null,
      "outputs": []
    },
    {
      "cell_type": "code",
      "metadata": {
        "id": "-Jefr0-69iU8"
      },
      "source": [
        "dogWeight == 25"
      ],
      "execution_count": null,
      "outputs": []
    },
    {
      "cell_type": "code",
      "metadata": {
        "id": "OdxPPWlV9kUA"
      },
      "source": [
        "dogWeight != 25"
      ],
      "execution_count": null,
      "outputs": []
    },
    {
      "cell_type": "code",
      "metadata": {
        "id": "CoscFMbY9mAu"
      },
      "source": [
        "dogWeight < 25"
      ],
      "execution_count": null,
      "outputs": []
    },
    {
      "cell_type": "code",
      "metadata": {
        "id": "Ll-oPtZS9nto"
      },
      "source": [
        "dogWeight <= 25"
      ],
      "execution_count": null,
      "outputs": []
    },
    {
      "cell_type": "code",
      "metadata": {
        "id": "u9I_0tDC9pPi"
      },
      "source": [
        "dogWeight > 25"
      ],
      "execution_count": null,
      "outputs": []
    },
    {
      "cell_type": "code",
      "metadata": {
        "id": "h3REJZNg9q21"
      },
      "source": [
        "dogWeight >= 25"
      ],
      "execution_count": null,
      "outputs": []
    },
    {
      "cell_type": "code",
      "metadata": {
        "id": "Lm2oRZTC9spo"
      },
      "source": [
        "dogWeight == 5 * 5"
      ],
      "execution_count": null,
      "outputs": []
    },
    {
      "cell_type": "code",
      "metadata": {
        "id": "7e-bsVPL9uxL"
      },
      "source": [
        "catWeight = 18\n",
        "dogWeight == catWeight"
      ],
      "execution_count": null,
      "outputs": []
    },
    {
      "cell_type": "markdown",
      "metadata": {
        "id": "OqkjLJQsQOy1"
      },
      "source": [
        "##Session 2.10 Evaluating compound Boolean expressions"
      ]
    },
    {
      "cell_type": "code",
      "metadata": {
        "id": "B5VoKJba9y4R"
      },
      "source": [
        "6 < 10 and 3 < 7"
      ],
      "execution_count": null,
      "outputs": []
    },
    {
      "cell_type": "code",
      "metadata": {
        "id": "4OGRgFKlVXvZ"
      },
      "source": [
        "6 < 10 and 10 < 6"
      ],
      "execution_count": null,
      "outputs": []
    },
    {
      "cell_type": "code",
      "metadata": {
        "id": "ToVe7wO_VaTi"
      },
      "source": [
        "4 != 4 or 5 < 8"
      ],
      "execution_count": null,
      "outputs": []
    },
    {
      "cell_type": "code",
      "metadata": {
        "id": "s-TXv5RRVcyb"
      },
      "source": [
        "4 != 4 or 8 < 5"
      ],
      "execution_count": null,
      "outputs": []
    },
    {
      "cell_type": "code",
      "metadata": {
        "id": "oGqPBo-tVgW2"
      },
      "source": [
        "not 6 < 10"
      ],
      "execution_count": null,
      "outputs": []
    },
    {
      "cell_type": "code",
      "metadata": {
        "id": "Yg7aT6-TVh7r"
      },
      "source": [
        "not 6 > 10"
      ],
      "execution_count": null,
      "outputs": []
    },
    {
      "cell_type": "markdown",
      "metadata": {
        "id": "geKNUx4Jr43H"
      },
      "source": [
        "##Session 2.11 Executing a simple `if-else` selection statement"
      ]
    },
    {
      "cell_type": "code",
      "metadata": {
        "id": "ICpyXemUVjS2"
      },
      "source": [
        "a = 1\n",
        "b = 3\n",
        "if a > b:\n",
        "  c = 10\n",
        "else:\n",
        "  c = 20\n",
        "\n",
        "c"
      ],
      "execution_count": null,
      "outputs": []
    },
    {
      "cell_type": "markdown",
      "metadata": {
        "id": "kKfL4Y37sMip"
      },
      "source": [
        "##Session 2.12 Executing a simple `if` selection statement"
      ]
    },
    {
      "cell_type": "code",
      "metadata": {
        "id": "sjOwCfC-sEoq"
      },
      "source": [
        "a = 5\n",
        "b = 3\n",
        "c = 44\n",
        "if a > b:\n",
        "  c = 10\n",
        "\n",
        "c"
      ],
      "execution_count": null,
      "outputs": []
    },
    {
      "cell_type": "code",
      "metadata": {
        "id": "O3K7dNersUfm"
      },
      "source": [
        "if b > a:\n",
        "  c = 25\n",
        "\n",
        "c"
      ],
      "execution_count": null,
      "outputs": []
    },
    {
      "cell_type": "markdown",
      "metadata": {
        "id": "5I6BPLdayJRG"
      },
      "source": [
        "##Listing 2.5 A function to compute pi using the Monte Carlo simulation"
      ]
    },
    {
      "cell_type": "code",
      "metadata": {
        "id": "ZZ-3WiP3sXzl"
      },
      "source": [
        "import random\n",
        "import math\n",
        "\n",
        "def montePi(numDarts):\n",
        "  \"\"\"\n",
        "  Produce an approximation of 𝛑, using a Monte Carlo approach.\n",
        "\n",
        "  parameters\n",
        "  ----------\n",
        "  numDarts : int\n",
        "    Number of random darts to throw at the dart board.\n",
        "\n",
        "  returns\n",
        "  -------\n",
        "    Approximation of 𝛑, as a float.\n",
        "  \"\"\"\n",
        "\n",
        "  inCircle = 0\n",
        "\n",
        "  for i in range(numDarts):\n",
        "    x = random.random()\n",
        "    y = random.random()\n",
        "\n",
        "    distance = math.sqrt(x**2 + y**2)\n",
        "\n",
        "    if distance <= 1:\n",
        "      inCircle = inCircle + 1\n",
        "\n",
        "  pi = inCircle / numDarts * 4\n",
        "\n",
        "  return pi"
      ],
      "execution_count": null,
      "outputs": []
    },
    {
      "cell_type": "markdown",
      "metadata": {
        "id": "pXnV6Ir3ymkb"
      },
      "source": [
        "##Session 2.13 Using the `montePi` function"
      ]
    },
    {
      "cell_type": "code",
      "metadata": {
        "id": "7MFZ2sK3yla6"
      },
      "source": [
        "montePi(100)"
      ],
      "execution_count": null,
      "outputs": []
    },
    {
      "cell_type": "code",
      "metadata": {
        "id": "-tejmNAZytcJ"
      },
      "source": [
        "montePi(1000)"
      ],
      "execution_count": null,
      "outputs": []
    },
    {
      "cell_type": "code",
      "metadata": {
        "id": "Ypzbs7I0yvGX"
      },
      "source": [
        "montePi(10000)"
      ],
      "execution_count": null,
      "outputs": []
    },
    {
      "cell_type": "markdown",
      "metadata": {
        "id": "fd63TFH4zqsz"
      },
      "source": [
        "##Listing 2.6 Adding graphics to the Monte Carlo simulation (modified)"
      ]
    },
    {
      "cell_type": "code",
      "metadata": {
        "id": "csDUS4K2yw5E"
      },
      "source": [
        "# 'magic' statement that allows plotting in Jupyter notebooks\n",
        "%matplotlib inline   \n",
        "import matplotlib.pyplot as plt # import the plotting library\n",
        "\n",
        "plt.rcParams['figure.figsize'] = [9, 9] # configure a square plot area\n",
        "\n",
        "import math\n",
        "import random\n",
        "\n",
        "def showMontePi(numDarts):\n",
        "  \"\"\"\n",
        "  Function to graphically illustrate the Monte Carlo 𝛑 estimation, using matplotlib.\n",
        "\n",
        "  parameters\n",
        "  ----------\n",
        "  numDarts : int\n",
        "    Number of random darts to throw at the dart board.\n",
        "\n",
        "  returns\n",
        "  -------\n",
        "    Approximation of 𝛑, as a float.\n",
        "  \"\"\"\n",
        "  inCircle = 0\n",
        "\n",
        "  for i in range(numDarts):\n",
        "    x = random.random()\n",
        "    y = random.random()\n",
        "\n",
        "    distance = math.sqrt(x**2 + y**2)\n",
        "\n",
        "    if distance <= 1:\n",
        "      plt.plot(x, y, 'b.')      # draw a blue dot for inside arc\n",
        "      inCircle = inCircle + 1\n",
        "    else:\n",
        "      plt.plot(x, y, 'r.')      # draw a red dot for outside arc\n",
        "\n",
        "  pi = inCircle / numDarts * 4\n",
        "  return pi"
      ],
      "execution_count": null,
      "outputs": []
    },
    {
      "cell_type": "code",
      "metadata": {
        "id": "mupK0a9a0hcX"
      },
      "source": [
        "showMontePi(100)"
      ],
      "execution_count": null,
      "outputs": []
    },
    {
      "cell_type": "code",
      "metadata": {
        "id": "KwbjHLIY0lol"
      },
      "source": [
        "showMontePi(10000)"
      ],
      "execution_count": null,
      "outputs": []
    },
    {
      "cell_type": "code",
      "metadata": {
        "id": "9ShDfBqO0oqL"
      },
      "source": [
        ""
      ],
      "execution_count": null,
      "outputs": []
    }
  ]
}